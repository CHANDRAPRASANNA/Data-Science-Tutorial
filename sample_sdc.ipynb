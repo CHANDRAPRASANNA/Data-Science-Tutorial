{
  "nbformat": 4,
  "nbformat_minor": 0,
  "metadata": {
    "colab": {
      "provenance": [],
      "authorship_tag": "ABX9TyMdYxiIM9dMSC70sW2Pjkl9",
      "include_colab_link": true
    },
    "kernelspec": {
      "name": "python3",
      "display_name": "Python 3"
    },
    "language_info": {
      "name": "python"
    }
  },
  "cells": [
    {
      "cell_type": "markdown",
      "metadata": {
        "id": "view-in-github",
        "colab_type": "text"
      },
      "source": [
        "<a href=\"https://colab.research.google.com/github/CHANDRAPRASANNA/Data-Science-Tutorial/blob/main/sample_sdc.ipynb\" target=\"_parent\"><img src=\"https://colab.research.google.com/assets/colab-badge.svg\" alt=\"Open In Colab\"/></a>"
      ]
    },
    {
      "cell_type": "code",
      "execution_count": null,
      "metadata": {
        "colab": {
          "base_uri": "https://localhost:8080/"
        },
        "id": "qWIoRu5-1rG8",
        "outputId": "d665a3cc-8ea5-4b4d-f631-f9676bf16156"
      },
      "outputs": [
        {
          "output_type": "stream",
          "name": "stdout",
          "text": [
            "using the + operator: [ 3  7 11 15]\n",
            "using the add() sunction: [ 3  7 11 15]\n"
          ]
        }
      ],
      "source": [
        "import numpy as np\n",
        "first_array=np.array([1,3,5,7])\n",
        "second_array=np.array([2,4,6,8])\n",
        "#using the+operator\n",
        "result1=first_array+second_array\n",
        "print(\"using the + operator:\",result1)\n",
        "\n",
        "#using the add function\n",
        "result2=np.add(first_array,second_array)\n",
        "print('using the add() sunction:',result2)\n"
      ]
    },
    {
      "cell_type": "code",
      "source": [
        "import numpy as np\n",
        "first_array=np.array([1,3,7],\n",
        "                     [3,2,6])\n",
        "second_array=np.array([2,4,8],\n",
        "                      [3,1,9])\n",
        "#using the+operator\n",
        "result1=first_array+second_array\n",
        "print(\"using the + operator:\",result1)\n",
        "\n",
        "#using the add function\n",
        "result2=np.add(first_array,second_array)\n",
        "print('using the add() sunction:',result2)\n"
      ],
      "metadata": {
        "colab": {
          "base_uri": "https://localhost:8080/",
          "height": 211
        },
        "id": "O5vWrhoH-Gib",
        "outputId": "fea105db-571f-4774-9b10-e9c14828d924"
      },
      "execution_count": null,
      "outputs": [
        {
          "output_type": "error",
          "ename": "TypeError",
          "evalue": "Field elements must be 2- or 3-tuples, got '3'",
          "traceback": [
            "\u001b[0;31m---------------------------------------------------------------------------\u001b[0m",
            "\u001b[0;31mTypeError\u001b[0m                                 Traceback (most recent call last)",
            "\u001b[0;32m<ipython-input-13-e319ea2697b6>\u001b[0m in \u001b[0;36m<cell line: 2>\u001b[0;34m()\u001b[0m\n\u001b[1;32m      1\u001b[0m \u001b[0;32mimport\u001b[0m \u001b[0mnumpy\u001b[0m \u001b[0;32mas\u001b[0m \u001b[0mnp\u001b[0m\u001b[0;34m\u001b[0m\u001b[0;34m\u001b[0m\u001b[0m\n\u001b[0;32m----> 2\u001b[0;31m first_array=np.array([1,3,7],\n\u001b[0m\u001b[1;32m      3\u001b[0m                      [3,2,6])\n\u001b[1;32m      4\u001b[0m second_array=np.array([2,4,8],\n\u001b[1;32m      5\u001b[0m                       [3,1,9])\n",
            "\u001b[0;31mTypeError\u001b[0m: Field elements must be 2- or 3-tuples, got '3'"
          ]
        }
      ]
    },
    {
      "cell_type": "code",
      "source": [
        "import numpy as np\n",
        "first_array=np.array([3,9,27,81])\n",
        "second_array=np.array([2,4,8,16])\n",
        "#using the - operator\n",
        "result1=first_array-second_array\n",
        "print(\"using the - operator:\",result1)\n",
        "\n",
        "#using the subtract() function\n",
        "result2=np.subtract(first_array,second_array)\n",
        "print('using the subtract() sunction:',result2)\n"
      ],
      "metadata": {
        "colab": {
          "base_uri": "https://localhost:8080/"
        },
        "id": "ajOqDutx47-9",
        "outputId": "4a6c2ab6-11e2-4c24-b011-e184dac243c0"
      },
      "execution_count": null,
      "outputs": [
        {
          "output_type": "stream",
          "name": "stdout",
          "text": [
            "using the - operator: [ 1  5 19 65]\n",
            "using the subtract() sunction: [ 1  5 19 65]\n"
          ]
        }
      ]
    },
    {
      "cell_type": "code",
      "source": [
        "import numpy as np\n",
        "first_array=np.array([3,9,7,8])\n",
        "second_array=np.array([2,4,8,1])\n",
        "#using the * operator\n",
        "result1=first_array*second_array\n",
        "print(\"using the * operator:\",result1)\n",
        "\n",
        "#using the multiply() function\n",
        "result2=np.multiply(first_array,second_array)\n",
        "print('using the multiply() function:',result2)\n"
      ],
      "metadata": {
        "colab": {
          "base_uri": "https://localhost:8080/"
        },
        "id": "3IF_02JP6Vn9",
        "outputId": "88e7aa1c-ec49-46f0-a7fd-b09177a21420"
      },
      "execution_count": null,
      "outputs": [
        {
          "output_type": "stream",
          "name": "stdout",
          "text": [
            "using the * operator: [ 6 36 56  8]\n",
            "using the multiply() sunction: [ 6 36 56  8]\n"
          ]
        }
      ]
    },
    {
      "cell_type": "code",
      "source": [
        "import numpy as np\n",
        "first_array=np.array([1,2,3])\n",
        "second_array=np.array([4,5,6])\n",
        "#using the / operator\n",
        "result1=first_array/second_array\n",
        "print(\"using the / operator:\",result1)\n",
        "\n",
        "#using the divide() function\n",
        "result2=np.divide(first_array,second_array)\n",
        "print('using the divide() function:',result2)\n"
      ],
      "metadata": {
        "colab": {
          "base_uri": "https://localhost:8080/"
        },
        "id": "F8Sy09Lk80ea",
        "outputId": "7653d28e-d71c-479a-dd66-8aa270e95ab3"
      },
      "execution_count": null,
      "outputs": [
        {
          "output_type": "stream",
          "name": "stdout",
          "text": [
            "using the / operator: [0.25 0.4  0.5 ]\n",
            "using the divide() function: [0.25 0.4  0.5 ]\n"
          ]
        }
      ]
    },
    {
      "cell_type": "code",
      "source": [
        "import numpy as np\n",
        "first_array=np.array([1,2,3])\n",
        "#using the ** operator\n",
        "result1=first_array** 2\n",
        "print(\"using the / operator:\",result1)\n",
        "\n",
        "#using the power function\n",
        "result2=np.power(first_array,2)\n",
        "print('using the power() function:',result2)\n"
      ],
      "metadata": {
        "colab": {
          "base_uri": "https://localhost:8080/"
        },
        "id": "aQMTKQdh9XMB",
        "outputId": "6cf8d46c-e5cd-4f41-ff3e-32e12bc5cd75"
      },
      "execution_count": null,
      "outputs": [
        {
          "output_type": "stream",
          "name": "stdout",
          "text": [
            "using the / operator: [1 4 9]\n",
            "using the power() function: [1 4 9]\n"
          ]
        }
      ]
    },
    {
      "cell_type": "code",
      "source": [
        "import numpy as np\n",
        "first_array=np.array([8,6,24])\n",
        "second_array=np.array([4,5,6])\n",
        "#using the % operator\n",
        "result1=first_array % second_array\n",
        "print(\"using the % operator:\",result1)\n",
        "\n",
        "#using the mod() function\n",
        "result2=np.mod(first_array,second_array)\n",
        "print('using the mod() function:',result2)\n",
        "\n"
      ],
      "metadata": {
        "colab": {
          "base_uri": "https://localhost:8080/"
        },
        "id": "YoxUDQuM-t6D",
        "outputId": "b1b7a032-57d5-4158-ff1b-f98ddfca262e"
      },
      "execution_count": null,
      "outputs": [
        {
          "output_type": "stream",
          "name": "stdout",
          "text": [
            "using the % operator: [0 1 0]\n",
            "using the mod() function: [0 1 0]\n"
          ]
        }
      ]
    },
    {
      "cell_type": "code",
      "source": [
        "import numpy as np\n",
        "#create an array using np.array()\n",
        "array1=np.array([1,3,5])\n",
        "print(\"np.array():\\n\",array1)\n",
        "#create an array filled with zeros using np.zeros()\n",
        "array2=np.zeros((3,3))\n",
        "print(\"\\n np.zero():\\n\",array2)\n",
        "\n",
        "array3=np.ones((2,4))\n",
        "print(\"\\nnp.ones():\\n\",array3)\n",
        "#crreate a 1D array\n",
        "array1=np.array([1,2,3,4,5,6,])\n",
        "#reshape the 1D array into a 2D array\n",
        "arry2=np.reshape(array1,(2,3))#with 2 rows and 3 columns\n",
        "#transpose the 2D array (rows to col and col to rows )\n",
        "array3=np.transpose(array2)\n",
        "print(\"original array:\\n\",array1)\n",
        "print(\"reshaped array:\\n\",array2)\n",
        "print(\"Transpose array:\\n\",array3)\n",
        "\n"
      ],
      "metadata": {
        "colab": {
          "base_uri": "https://localhost:8080/"
        },
        "id": "xtMIYe6O_a_e",
        "outputId": "47ec4516-7738-4776-cde5-ffc795c4be88"
      },
      "execution_count": null,
      "outputs": [
        {
          "output_type": "stream",
          "name": "stdout",
          "text": [
            "np.array():\n",
            " [1 3 5]\n",
            "\n",
            " np.zero():\n",
            " [[0. 0. 0.]\n",
            " [0. 0. 0.]\n",
            " [0. 0. 0.]]\n",
            "\n",
            "np.ones():\n",
            " [[1. 1. 1. 1.]\n",
            " [1. 1. 1. 1.]]\n",
            "original array:\n",
            " [1 2 3 4 5 6]\n",
            "reshaped array:\n",
            " [[0. 0. 0.]\n",
            " [0. 0. 0.]\n",
            " [0. 0. 0.]]\n",
            "Transpose array:\n",
            " [[0. 0. 0.]\n",
            " [0. 0. 0.]\n",
            " [0. 0. 0.]]\n"
          ]
        }
      ]
    },
    {
      "cell_type": "code",
      "source": [
        "#create a numpy array\n",
        "marks=np.array([76,78,81,66,85])\n",
        "#compute the mean of marks\n",
        "mean_marks=np.mean(marks)\n",
        "print(\"mean:\",mean_marks)\n",
        "\n",
        "#compute the median of marks\n",
        "median_marks=np.median(marks)\n",
        "print(\"median:\",median_marks)\n",
        "\n",
        "#compute the min of marks\n",
        "min_marks=np.min(marks)\n",
        "print(\"minimum:\",min_marks)\n",
        "\n",
        "#compute the max of marks\n",
        "max_marks=np.max(marks)\n",
        "print(\"max:\",max_marks)"
      ],
      "metadata": {
        "colab": {
          "base_uri": "https://localhost:8080/"
        },
        "id": "lM5WTgzrCbW8",
        "outputId": "e2128d19-158d-4ad3-dfd4-5068fd0de5c2"
      },
      "execution_count": null,
      "outputs": [
        {
          "output_type": "stream",
          "name": "stdout",
          "text": [
            "mean: 77.2\n",
            "median: 78.0\n",
            "minimum: 66\n",
            "max: 85\n"
          ]
        }
      ]
    },
    {
      "cell_type": "code",
      "source": [
        "#relational operations\n",
        "import numpy as np\n",
        "array1=np.array([1,2,3])\n",
        "array2=np.array([3,2,1])\n",
        "\n",
        "#less than operator\n",
        "result1=array1<array2\n",
        "print(\"array1<array2:\",result1)\n",
        "\n",
        "#use less()\n",
        "result=np.less(array1,array2)\n",
        "print(\"Using less function(): \",result)\n",
        "\n",
        "\n",
        "\n",
        "#greater than operator\n",
        "result2=array1>array2\n",
        "print(\"array1>array2:\",result1)\n",
        "#use greater()\n",
        "result=np.greater(array1,array2)\n",
        "print(\"Using greater function(): \",result)\n",
        "\n",
        "\n",
        "\n",
        "#use less_equal()\n",
        "result=np.less_equal(array1,array2)\n",
        "print(\"Using less-equal function(): \",result)\n",
        "\n",
        "#use greater_equal()\n",
        "result=np.greater_equal(array1,array2)\n",
        "print(\"Using greater-equal function(): \",result)\n",
        "\n",
        "\n",
        "#equal operator\n",
        "result1=array1==array2\n",
        "print(\"array1<array2: \",result1)\n",
        "\n",
        "#use not_equal()\n",
        "result=np.not_equal(array1,array2)\n",
        "print(\"Using not-equal function():  \",result)\n",
        "\n"
      ],
      "metadata": {
        "colab": {
          "base_uri": "https://localhost:8080/"
        },
        "id": "CT480224GISm",
        "outputId": "1e4382e5-28a8-470b-be65-84aae364cb0d"
      },
      "execution_count": null,
      "outputs": [
        {
          "output_type": "stream",
          "name": "stdout",
          "text": [
            "array1<array2: [ True False False]\n",
            "Using less function():  [ True False False]\n",
            "array1>array2: [ True False False]\n",
            "Using greater function():  [False False  True]\n",
            "Using less-equal function():  [ True  True False]\n",
            "Using greater-equal function():  [False  True  True]\n",
            "array1<array2:  [False  True False]\n",
            "Using not-equal function():   [ True False  True]\n"
          ]
        }
      ]
    },
    {
      "cell_type": "code",
      "source": [
        "#logical operators\n",
        "import numpy as np\n",
        "x1=np.array([True,False,True])\n",
        "x2=np.array([False,False,True])\n",
        "\n",
        "#Logical AND\n",
        "print(np.logical_and(x1,x2))\n",
        "#Logical OR\n",
        "print(np.logical_or(x1,x2))\n",
        "#Logical NOT\n",
        "print(np.logical_not(x1))\n",
        "\n"
      ],
      "metadata": {
        "id": "8bu7hvH6HcGt",
        "colab": {
          "base_uri": "https://localhost:8080/"
        },
        "outputId": "566d1f87-fb59-4085-fd51-7c7c8b2cf053"
      },
      "execution_count": null,
      "outputs": [
        {
          "output_type": "stream",
          "name": "stdout",
          "text": [
            "[False False  True]\n",
            "[ True False  True]\n",
            "[False  True False]\n"
          ]
        }
      ]
    },
    {
      "cell_type": "code",
      "source": [
        "#Round functions\n",
        "import numpy as np\n",
        "numbers=np.array([1.3453,2.3546,3.5345,4.4561])\n",
        "\n",
        "#round the array to rwo decimal places\n",
        "rounded_array=np.round(numbers,2)\n",
        "print(rounded_array)\n",
        "\n",
        "array1=np.array([2.4342,5.6545,3.543,3.4653])\n",
        "print(\"Array after floor():\",np.floor(array1))\n",
        "print(\"Array after ceil():\",np.ceil(array1))"
      ],
      "metadata": {
        "colab": {
          "base_uri": "https://localhost:8080/"
        },
        "id": "qvINHNHUjzfS",
        "outputId": "51fc5cc4-2e0d-4ffd-e988-6c58018f5b54"
      },
      "execution_count": null,
      "outputs": [
        {
          "output_type": "stream",
          "name": "stdout",
          "text": [
            "[1.35 2.35 3.53 4.46]\n",
            "Array after floor(): [2. 5. 3. 3.]\n",
            "Array after ceil(): [3. 6. 4. 4.]\n"
          ]
        }
      ]
    },
    {
      "cell_type": "code",
      "source": [
        "\n",
        "\n",
        "#create a numpy array statistical functions with 2D array\n",
        "array1=np.array([[2,5,7],\n",
        "                [4,10,12],\n",
        "                 [14,18,20]])\n",
        "#compute the median along with horizontal axis\n",
        "result1=np.mean(array1,axis=1)\n",
        "print(\"median along with horizontal axis\",result1)\n",
        "\n",
        "#compute the median along with vertical axis\n",
        "result2=np.median(array1,axis=0)\n",
        "print(\"median with vertical axis\",result2)\n",
        "\n",
        "#compute median of entire array\n",
        "result3=np.median(array1)\n",
        "print(\"median of entire array\",result3)\n",
        "\n",
        "#compute median of entire array\n",
        "result3=np.std(array1,axis=1)\n",
        "print(\"standard deviation along with horizontal axis\",result3)\n",
        "\n",
        "\n",
        "#compute standard deviation along with vartical axis\n",
        "result3=np.std(array1,axis=0)\n",
        "print(\"standard deviation along with vartical axis\",result3)\n",
        "\n",
        "#compute sd of entire array\n",
        "result3=np.std(array1)\n",
        "print(\"sd of entire array\",result3)"
      ],
      "metadata": {
        "id": "pE3rUM94mjG6",
        "colab": {
          "base_uri": "https://localhost:8080/"
        },
        "outputId": "d3f411de-95fc-4aad-9502-27696f8d760a"
      },
      "execution_count": null,
      "outputs": [
        {
          "output_type": "stream",
          "name": "stdout",
          "text": [
            "median along with horizontal axis [ 4.66666667  8.66666667 17.33333333]\n",
            "median with vertical axis [ 4. 10. 12.]\n",
            "median of entire array 10.0\n",
            "standard deviation along with horizontal axis [2.05480467 3.39934634 2.49443826]\n",
            "standard deviation along with vartical axis [5.24933858 5.35412613 5.35412613]\n",
            "sd of entire array 5.9400295131660705\n"
          ]
        }
      ]
    },
    {
      "cell_type": "code",
      "source": [
        "#numpy string functions\n",
        "import numpy as np\n",
        "array1=np.array(['iphone:','price:'])\n",
        "array2=np.array(['15','$900'])\n",
        "\n",
        "#perform element-wise array string concatenation\n",
        "result=np.char.add(array1,array2)\n",
        "print(result)\n",
        "\n",
        "#definearray with 3 string elements\n",
        "array1=np.array(['A','B','C'])\n",
        "\n",
        "#repeate each element in array1 two times\n",
        "result=np.char.multiply(array1,2)\n",
        "print(result)\n",
        "\n",
        "#define an array with 3 string elements\n",
        "array1=np.array(['eric','paul','sean'])\n",
        "\n",
        "#Capitalize the 1st letter of the each string in array\n",
        "result=np.char.capitalize(array1)\n",
        "print(result)\n",
        "\n",
        "array1=np.array(['nEpalI','AmerICan','CaNaDian'])\n",
        "\n",
        "#convert all string elements to uppercase\n",
        "result1=np.char.upper(array1)\n",
        "result2=np.char.lower(array1)\n",
        "print(\"uppercase:\",result1)\n",
        "print(\"lowercase:\",result2)"
      ],
      "metadata": {
        "colab": {
          "base_uri": "https://localhost:8080/"
        },
        "id": "xeCt1gcgsimj",
        "outputId": "042e31c1-2124-4db2-fbf4-61ec544ea134"
      },
      "execution_count": null,
      "outputs": [
        {
          "output_type": "stream",
          "name": "stdout",
          "text": [
            "['iphone:15' 'price:$900']\n",
            "['AA' 'BB' 'CC']\n",
            "['Eric' 'Paul' 'Sean']\n",
            "uppercase: ['NEPALI' 'AMERICAN' 'CANADIAN']\n",
            "lowercase: ['nepali' 'american' 'canadian']\n"
          ]
        }
      ]
    },
    {
      "cell_type": "code",
      "source": [
        "#create two arrays of string\n",
        "array1=np.array(['c','python','swift'])\n",
        "array2=np.array(['c++','python','java'])\n",
        "result=np.char.equal(array1,array2)\n",
        "print(result)\n",
        "\n"
      ],
      "metadata": {
        "colab": {
          "base_uri": "https://localhost:8080/"
        },
        "id": "H7K8LtGpwk_W",
        "outputId": "b210c5db-4c6f-4018-9f51-ecc84ed68db8"
      },
      "execution_count": null,
      "outputs": [
        {
          "output_type": "stream",
          "name": "stdout",
          "text": [
            "[False  True False]\n"
          ]
        }
      ]
    },
    {
      "cell_type": "code",
      "source": [
        "#array indexing\n",
        "import numpy as np\n",
        "arr=np.array([3,5,7,2])\n",
        "print(\"first element of array is:\",arr[0])\n",
        "print(\"sum of 2 elements of array is:\",arr[2]+arr[3])\n",
        "\n",
        "\n",
        "#array slicing\n",
        "import numpy as np\n",
        "arr=np.array([1,2,3,4,5,6,7])\n",
        "print(\"Slicing of element from 1 to 4\",arr[1:5])\n",
        "print(\"Slicing of element from 4 to end\",arr[4:])\n",
        "print(\"slicing of elements from start to 3\",arr[:4])\n"
      ],
      "metadata": {
        "colab": {
          "base_uri": "https://localhost:8080/"
        },
        "id": "6Vwr1WnrxhKR",
        "outputId": "d93510ba-dad4-41e4-ea60-19a35d3fc4f2"
      },
      "execution_count": null,
      "outputs": [
        {
          "output_type": "stream",
          "name": "stdout",
          "text": [
            "first element of array is: 3\n",
            "sum of 2 elements of array is: 9\n",
            "Slicing of element from 1 to 4 [2 3 4 5]\n",
            "Slicing of element from 4 to end [5 6 7]\n",
            "slicing of elements from start to 3 [1 2 3 4]\n"
          ]
        }
      ]
    },
    {
      "cell_type": "code",
      "source": [
        "#2-08-2024\n",
        "import matplotlib.pyplot as plt\n",
        "x=[1,2,3,4]\n",
        "y=[10,20,25,30]\n",
        "plt.plot(x,y,color=\"red\")\n",
        "\n",
        "#customizing axis limits and labels\n",
        "plt.xlim(0,6)\n",
        "plt.ylim(0,36)\n",
        "plt.xlabel(\"x-axis\")\n",
        "plt.ylabel(\"y-axis\")\n",
        "plt.title(\"Sample plot\")\n",
        "plt.show()"
      ],
      "metadata": {
        "colab": {
          "base_uri": "https://localhost:8080/",
          "height": 472
        },
        "id": "5vuCR_cQmhEk",
        "outputId": "db726aa4-1fe1-42fe-a80a-f71902bceff6"
      },
      "execution_count": null,
      "outputs": [
        {
          "output_type": "display_data",
          "data": {
            "text/plain": [
              "<Figure size 640x480 with 1 Axes>"
            ],
            "image/png": "[encoded data removed]"
          },
          "metadata": {}
        }
      ]
    },
    {
      "cell_type": "code",
      "source": [
        "from matplotlib import pyplot as plt\n",
        "import numpy as np\n",
        "import math\n",
        "x=np.arange(0,math.pi*2,0.05)\n",
        "y=np.sin(x)*2\n",
        "plt.plot(x,y)\n",
        "plt.xlabel(\"angle\")\n",
        "plt.ylabel(\"sine\")\n",
        "plt.title(\"Sine Wave\")\n",
        "plt.show()"
      ],
      "metadata": {
        "colab": {
          "base_uri": "https://localhost:8080/",
          "height": 472
        },
        "id": "EoT686tmqHEx",
        "outputId": "46d9f08d-914c-465c-9fd8-9783371007a7"
      },
      "execution_count": null,
      "outputs": [
        {
          "output_type": "display_data",
          "data": {
            "text/plain": [
              "<Figure size 640x480 with 1 Axes>"
            ],
            "image/png": "[encoded data removed]"
          },
          "metadata": {}
        }
      ]
    },
    {
      "cell_type": "code",
      "source": [
        "x=np.arange(0,10,1)\n",
        "y=3*x\n",
        "print(x)\n",
        "print(y)"
      ],
      "metadata": {
        "colab": {
          "base_uri": "https://localhost:8080/"
        },
        "id": "ZU9FtDGZsOwd",
        "outputId": "a73caf43-a6ca-490f-97b5-3c34faaad0cd"
      },
      "execution_count": null,
      "outputs": [
        {
          "output_type": "stream",
          "name": "stdout",
          "text": [
            "[0 1 2 3 4 5 6 7 8 9]\n",
            "[ 0  3  6  9 12 15 18 21 24 27]\n"
          ]
        }
      ]
    },
    {
      "cell_type": "code",
      "source": [
        "from matplotlib import pyplot as plt\n",
        "year=[1,2,3]\n",
        "veg_rate=[2,4,6]\n",
        "milk_rate=[1,3,5]\n",
        "fruit_rate=[3,6,9]\n",
        "line1,=plt.plot(year,veg_rate)\n",
        "line2,=plt.plot(year,milk_rate)\n",
        "line3,=plt.plot(year,fruit_rate)\n",
        "plt.legend([line1,line2,line3],['vegetables','milk','fruit'])\n",
        "plt.xlabel(\"years\")\n",
        "plt.ylabel(\"rate\")\n",
        "plt.show()\n",
        "\n"
      ],
      "metadata": {
        "colab": {
          "base_uri": "https://localhost:8080/",
          "height": 449
        },
        "id": "H2tVW7kdt1r7",
        "outputId": "4341b3ae-f92a-4d36-9ede-b475a62ea643"
      },
      "execution_count": null,
      "outputs": [
        {
          "output_type": "display_data",
          "data": {
            "text/plain": [
              "<Figure size 640x480 with 1 Axes>"
            ],
            "image/png": "[encoded data removed]"
          },
          "metadata": {}
        }
      ]
    },
    {
      "cell_type": "code",
      "source": [
        "import matplotlib.pyplot as plt\n",
        "categories=['lion','horse','Kangaroo']\n",
        "values=[15,24,30]\n",
        "plt.bar(categories,values,color='skyblue')\n",
        "plt.xlabel('categories')\n",
        "plt.ylabel(\"values\")\n",
        "plt.title(\"Basic vartical bar graph\")\n",
        "plt.show()"
      ],
      "metadata": {
        "colab": {
          "base_uri": "https://localhost:8080/",
          "height": 472
        },
        "id": "AxuZZPfXyeJh",
        "outputId": "63f52814-5e1c-4c06-d4a0-d7dc222699a0"
      },
      "execution_count": null,
      "outputs": [
        {
          "output_type": "display_data",
          "data": {
            "text/plain": [
              "<Figure size 640x480 with 1 Axes>"
            ],
            "image/png": "[encoded data removed]"
          },
          "metadata": {}
        }
      ]
    },
    {
      "cell_type": "code",
      "source": [
        "import matplotlib.pyplot as plt\n",
        "categories=['ferrari','Benz','Honda']\n",
        "values=[40,28,35]\n",
        "plt.barh(categories,values,color=['g','b','r'])\n",
        "plt.xlabel(\"Distance Covered/km\")\n",
        "plt.ylabel(\"Car Name\")\n",
        "plt.title(\"CAR RACE\")\n",
        "plt.show()"
      ],
      "metadata": {
        "colab": {
          "base_uri": "https://localhost:8080/",
          "height": 472
        },
        "id": "6IOtmnF8zzLA",
        "outputId": "fdf1f761-cd44-49c0-d841-410bc9987720"
      },
      "execution_count": null,
      "outputs": [
        {
          "output_type": "display_data",
          "data": {
            "text/plain": [
              "<Figure size 640x480 with 1 Axes>"
            ],
            "image/png": "[encoded data removed]"
          },
          "metadata": {}
        }
      ]
    },
    {
      "cell_type": "code",
      "source": [
        "import matplotlib.pyplot as plt\n",
        "import numpy as np\n",
        "\n",
        "categories=['lion','horse','Kangaroo']\n",
        "value1=[15,24,49]\n",
        "value2=[20,18,25]\n",
        "bar_width=0.35\n",
        "bar_position1=np.arange(len(categories))\n",
        "bar_position2=bar_position1+bar_width\n",
        "plt.bar(bar_position1,value1,width=bar_width,label='2021',color='skyblue')\n",
        "plt.bar(bar_position2,value2,width=bar_width,label='2022',color='orange')\n",
        "plt.xlabel(\"categories\")\n",
        "plt.ylabel(\"values\")\n",
        "plt.title('Grouped Bar Graph')\n",
        "plt.legend()\n",
        "plt.show()"
      ],
      "metadata": {
        "id": "ot9IRHx_12A4",
        "colab": {
          "base_uri": "https://localhost:8080/",
          "height": 472
        },
        "outputId": "7301a20f-0975-48a4-dc01-42d6624092fc"
      },
      "execution_count": null,
      "outputs": [
        {
          "output_type": "display_data",
          "data": {
            "text/plain": [
              "<Figure size 640x480 with 1 Axes>"
            ],
            "image/png": "[encoded data removed]"
          },
          "metadata": {}
        }
      ]
    },
    {
      "cell_type": "code",
      "source": [
        "#stacked bar graph\n",
        "import matplotlib.pyplot as plt\n",
        "categories=['transport','income Tax','housing']\n",
        "values1=[15,24,30]\n",
        "values2=[20,18,25]\n",
        "plt.bar(categories,values1,label='first half',color=\"skyblue\")\n",
        "plt.bar(categories,values2,label='second half',color=\"orange\")\n",
        "plt.xlabel(\"categories\")\n",
        "plt.ylabel(\"values\")\n",
        "plt.title(\"stacked bar graph\")\n",
        "plt.legend()\n",
        "plt.show()"
      ],
      "metadata": {
        "colab": {
          "base_uri": "https://localhost:8080/",
          "height": 472
        },
        "id": "EJfwnDa58wRF",
        "outputId": "523d2044-ac78-4b52-efc4-2ff4782d0be0"
      },
      "execution_count": null,
      "outputs": [
        {
          "output_type": "display_data",
          "data": {
            "text/plain": [
              "<Figure size 640x480 with 1 Axes>"
            ],
            "image/png": "[encoded data removed]"
          },
          "metadata": {}
        }
      ]
    },
    {
      "cell_type": "code",
      "source": [
        "import matplotlib.pyplot as plt\n",
        "x=[70,50,100,40,50,50,70,50]\n",
        "plt.hist(x,orientation=\"vertical\")\n",
        "plt.title(\"mark analysis\")\n",
        "plt.ylabel(\"no. of students\")\n",
        "plt.xlabel(\"marks\")\n",
        "plt.show()\n"
      ],
      "metadata": {
        "colab": {
          "base_uri": "https://localhost:8080/",
          "height": 472
        },
        "id": "xSzjTFbAI-rK",
        "outputId": "452b3158-165d-46b5-f070-ebb0b2243ba1"
      },
      "execution_count": null,
      "outputs": [
        {
          "output_type": "display_data",
          "data": {
            "text/plain": [
              "<Figure size 640x480 with 1 Axes>"
            ],
            "image/png": "[encoded data removed]"
          },
          "metadata": {}
        }
      ]
    },
    {
      "cell_type": "code",
      "source": [
        "#cumulative histogram\n",
        "import matplotlib.pyplot as plt\n",
        "import numpy as np\n",
        "exam_score=np.random.randint(0,100,100)\n",
        "plt.hist(exam_score,bins=10,cumulative=True,color=\"blue\",edgecolor=\"black\")\n",
        "plt.xlabel(\"exam_score\")\n",
        "plt.ylabel(\"no.of students\")\n",
        "plt.title(\"cumulative histogram\")\n",
        "plt.show()"
      ],
      "metadata": {
        "id": "T7e509_VJ3AZ",
        "colab": {
          "base_uri": "https://localhost:8080/",
          "height": 472
        },
        "outputId": "bcc47d2e-fd43-4262-b04b-8fd7875404a0"
      },
      "execution_count": null,
      "outputs": [
        {
          "output_type": "display_data",
          "data": {
            "text/plain": [
              "<Figure size 640x480 with 1 Axes>"
            ],
            "image/png": "[encoded data removed]"
          },
          "metadata": {}
        }
      ]
    },
    {
      "cell_type": "code",
      "source": [
        "import matplotlib.pyplot as plt\n",
        "import numpy as np\n",
        "mark1=np.array([2,4,5,6,7,8,9,10,13,15])\n",
        "mark2=np.array([3,4,5,6,8,9,10,13,15,16])\n",
        "plt.hist(mark1,bins=5,stacked=True,color=\"skyblue\",edgecolor=\"black\")\n",
        "plt.hist(mark2,bins=5,stacked=True,color=\"pink\",edgecolor='black')\n",
        "plt.title(\"stacked histogrm\")\n",
        "plt.xlabel('marks')\n",
        "plt.ylabel(\"no.of students\")\n",
        "plt.legend(['mark dataset1','mark dataset2'])\n",
        "plt.show()"
      ],
      "metadata": {
        "colab": {
          "base_uri": "https://localhost:8080/",
          "height": 472
        },
        "id": "L5nxIdBxl8K9",
        "outputId": "0165593a-ee99-4ed3-b1c3-fb2b2cba312d"
      },
      "execution_count": null,
      "outputs": [
        {
          "output_type": "display_data",
          "data": {
            "text/plain": [
              "<Figure size 640x480 with 1 Axes>"
            ],
            "image/png": "[encoded data removed]"
          },
          "metadata": {}
        }
      ]
    },
    {
      "cell_type": "code",
      "source": [
        "#pandas\n",
        "import pandas as pd\n",
        "a=[1,7,2]\n",
        "myvar=pd.Series(a)\n",
        "print(a)\n",
        "print(myvar)\n",
        "print(\"-----------------\")\n",
        "print(myvar[0])\n",
        "print(\"-------------\")\n",
        "myvar2=pd.Series(a,index=[\"x\",\"y\",'z'])\n",
        "print(myvar2)\n",
        "print(myvar2[\"y\"])\n",
        "print(\"----------------\")\n",
        "calories={'day1':420,'day2':380,'day3':390}\n",
        "myvar=pd.Series(calories)\n",
        "print(myvar)\n",
        "print(\"----------------\")\n",
        "myvar=pd.Series(calories,index=['day1','day2'])\n",
        "print(myvar)\n",
        "print(\"-----------\")\n",
        "#series generated form scalar value\n",
        "series=pd.Series(5,index=[0,1,2,3])\n",
        "print(series)\n",
        "print(\"----------------\")\n"
      ],
      "metadata": {
        "colab": {
          "base_uri": "https://localhost:8080/"
        },
        "id": "mVBlW4xQn_Ho",
        "outputId": "0e51da45-3753-4fe5-d82e-bd2014f9a62e"
      },
      "execution_count": null,
      "outputs": [
        {
          "output_type": "stream",
          "name": "stdout",
          "text": [
            "[1, 7, 2]\n",
            "0    1\n",
            "1    7\n",
            "2    2\n",
            "dtype: int64\n",
            "-----------------\n",
            "1\n",
            "-------------\n",
            "x    1\n",
            "y    7\n",
            "z    2\n",
            "dtype: int64\n",
            "7\n",
            "----------------\n",
            "day1    420\n",
            "day2    380\n",
            "day3    390\n",
            "dtype: int64\n",
            "----------------\n",
            "day1    420\n",
            "day2    380\n",
            "dtype: int64\n",
            "-----------\n",
            "0    5\n",
            "1    5\n",
            "2    5\n",
            "3    5\n",
            "dtype: int64\n",
            "----------------\n"
          ]
        }
      ]
    },
    {
      "cell_type": "code",
      "source": [
        "#Integers series\n",
        "int_series=pd.Series([1,2,3,4])\n",
        "print(int_series)\n",
        "print('------------')\n",
        "#Float series\n",
        "float_series=pd.Series([1.1,2.2,3.3,4.4])\n",
        "print(float_series)\n",
        "print(\"------------\")\n",
        "#string series\n",
        "string_series=pd.Series(['a','b','c','d'])\n",
        "print(string_series)\n",
        "print(\"------------\")\n",
        "#label based indexing\n",
        "data={'a':10,'b':20,'c':30}\n",
        "series=pd.Series(data)\n",
        "print(series['a'])\n",
        "print(series[['a','c']])\n",
        "print(\"------------\")\n",
        "#boolean indexing\n",
        "data=[10,20,30,40,50]\n",
        "series=pd.Series(data)\n",
        "#access element greater than 25\n",
        "print(series[series>25])\n",
        "print(\"------------\")\n"
      ],
      "metadata": {
        "colab": {
          "base_uri": "https://localhost:8080/"
        },
        "id": "JX51syvBvSBZ",
        "outputId": "eafb7981-934b-43ee-bc68-e81381eed1cc"
      },
      "execution_count": null,
      "outputs": [
        {
          "output_type": "stream",
          "name": "stdout",
          "text": [
            "0    1\n",
            "1    2\n",
            "2    3\n",
            "3    4\n",
            "dtype: int64\n",
            "------------\n",
            "0    1.1\n",
            "1    2.2\n",
            "2    3.3\n",
            "3    4.4\n",
            "dtype: float64\n",
            "------------\n",
            "0    a\n",
            "1    b\n",
            "2    c\n",
            "3    d\n",
            "dtype: object\n",
            "------------\n",
            "10\n",
            "a    10\n",
            "c    30\n",
            "dtype: int64\n",
            "------------\n",
            "2    30\n",
            "3    40\n",
            "4    50\n",
            "dtype: int64\n",
            "------------\n"
          ]
        }
      ]
    },
    {
      "cell_type": "code",
      "source": [
        "#dataframe\n",
        "data={\n",
        "    'Name':['Alice','Bob','Charlie'],\n",
        "    'Age':[25,30,35],\n",
        "    'City':['New york','los angeles','chicago']\n",
        "}\n",
        "df=pd.DataFrame(data)\n",
        "print(df)\n",
        "print(\"------------\")\n",
        "#setting column\n",
        "print(df.Name)\n",
        "print(\"----------\")\n",
        "print(df['Name'])\n",
        "print(\"----------\")\n",
        "print(df[['Name','City']])\n",
        "print(\"-----------\")\n",
        "df=pd.DataFrame(data)\n",
        "#select a single row by label\n",
        "print(df.loc[0])\n",
        "print(\"-----------\")\n",
        "print(df.iloc[0])\n",
        "print(\"-----------\")\n",
        "#select multiple rows\n",
        "print(df.iloc[0:2])\n",
        "print(\"-----------\")\n",
        "#conditional selection\n",
        "#select row where age is greater than 25\n",
        "print(df[df['Age']>25])\n",
        "print(\"----------\")\n",
        "print(df.loc[(df.Name==\"Bob\")&(df.City==\"los angeles\")])"
      ],
      "metadata": {
        "colab": {
          "base_uri": "https://localhost:8080/"
        },
        "id": "A2roubczxh_C",
        "outputId": "26f8680e-b1b0-4021-8120-7eebe3b3e3f5"
      },
      "execution_count": null,
      "outputs": [
        {
          "output_type": "stream",
          "name": "stdout",
          "text": [
            "      Name  Age         City\n",
            "0    Alice   25     New york\n",
            "1      Bob   30  los angeles\n",
            "2  Charlie   35      chicago\n",
            "------------\n",
            "0      Alice\n",
            "1        Bob\n",
            "2    Charlie\n",
            "Name: Name, dtype: object\n",
            "----------\n",
            "0      Alice\n",
            "1        Bob\n",
            "2    Charlie\n",
            "Name: Name, dtype: object\n",
            "----------\n",
            "      Name         City\n",
            "0    Alice     New york\n",
            "1      Bob  los angeles\n",
            "2  Charlie      chicago\n",
            "-----------\n",
            "Name       Alice\n",
            "Age           25\n",
            "City    New york\n",
            "Name: 0, dtype: object\n",
            "-----------\n",
            "Name       Alice\n",
            "Age           25\n",
            "City    New york\n",
            "Name: 0, dtype: object\n",
            "-----------\n",
            "    Name  Age         City\n",
            "0  Alice   25     New york\n",
            "1    Bob   30  los angeles\n",
            "-----------\n",
            "      Name  Age         City\n",
            "1      Bob   30  los angeles\n",
            "2  Charlie   35      chicago\n",
            "----------\n",
            "  Name  Age         City\n",
            "1  Bob   30  los angeles\n"
          ]
        }
      ]
    },
    {
      "cell_type": "code",
      "source": [
        "#Grouping by single column\n",
        "data={\n",
        "    'Name':['Alice','Bob','Charlie','Alice',\"Bob\"],\n",
        "    'Age':[25,30,35,25,30],\n",
        "    'City':['New york','san francisco','los angeles','New york','san francisco'],\n",
        "    'salary':[70000,80000,120000,70000,80000]\n",
        "}\n",
        "df=pd.DataFrame(data)\n",
        "grouped=df.groupby('Name')\n",
        "print(grouped.groups)\n",
        "#calculate the sum of salaries for each group\n",
        "salary_sum=grouped['salary'].sum()\n",
        "print(salary_sum)\n",
        "print(\"------------\")\n",
        "\n",
        "age_mean=grouped['salary'].mean()\n",
        "print(age_mean)\n",
        "print(\"----------\")\n",
        "#grouping by multiple columns\n",
        "#groupby \"name and \"city\"\n",
        "grouped_multiple=df.groupby(['Name','City'])\n",
        "#calculate the sum of salaries for each group\n",
        "salary_sum_multiple=grouped_multiple['salary'].sum()\n",
        "print(salary_sum_multiple)"
      ],
      "metadata": {
        "colab": {
          "base_uri": "https://localhost:8080/"
        },
        "id": "WKit9nyv3-Tj",
        "outputId": "1a8197a3-b697-464f-c318-c9dd74c17d26"
      },
      "execution_count": null,
      "outputs": [
        {
          "output_type": "stream",
          "name": "stdout",
          "text": [
            "{'Alice': [0, 3], 'Bob': [1, 4], 'Charlie': [2]}\n",
            "Name\n",
            "Alice      140000\n",
            "Bob        160000\n",
            "Charlie    120000\n",
            "Name: salary, dtype: int64\n",
            "------------\n",
            "Name\n",
            "Alice       70000.0\n",
            "Bob         80000.0\n",
            "Charlie    120000.0\n",
            "Name: salary, dtype: float64\n",
            "----------\n",
            "Name     City         \n",
            "Alice    New york         140000\n",
            "Bob      san francisco    160000\n",
            "Charlie  los angeles      120000\n",
            "Name: salary, dtype: int64\n"
          ]
        }
      ]
    },
    {
      "cell_type": "code",
      "source": [
        "#concat dataframes and joins\n",
        "import pandas as pd\n",
        "#Define a dictionary containing employee data\n",
        "data1={'Name':['jai','princi','gaurav','anuj'],\n",
        "       'Age':[27,24,22,32],\n",
        "       'Address':['Nagpur','kanpur','allahabad','guntur'],\n",
        "       'Qualification':['Msc','MA','MCA','Phd']\n",
        "      }\n",
        "data2={'Name':['chandra','loki','baji','mohana'],\n",
        "       'Age':[19,12,21,20],\n",
        "       'Address':['chennai','kammam','hyd','vnk'],\n",
        "       'Qualification':['Mba','M.tech','b.tech','B.A']\n",
        "      }\n",
        "#convert the dictionary into dataframe\n",
        "df1=pd.DataFrame(data1,index=[0,1,2,3])\n",
        "df2=pd.DataFrame(data2,index=[4,5,6,7])\n",
        "print(df1,\"/n/n\",df2)\n",
        "#concatenate two dataframes\n",
        "result=pd.concat([df1,df2])\n",
        "print(result)\n",
        "print(\"--------------\")\n",
        "result2=pd.concat([df1,df2],axis=1,join=\"inner\")#axis:column wise operation\n",
        "print(result2)"
      ],
      "metadata": {
        "id": "Sv-ASjzuDXeM"
      },
      "execution_count": null,
      "outputs": []
    },
    {
      "cell_type": "code",
      "source": [
        "#concat dataframes and joins\n",
        "import pandas as pd\n",
        "#Define a dictionary containing employee data\n",
        "data1={'Name':['jai','princi','gaurav','anuj'],\n",
        "       'Age':[27,24,22,32],\n",
        "       'Address':['Nagpur','kanpur','allahabad','guntur'],\n",
        "       'Qualification':['Msc','MA','MCA','Phd']\n",
        "      }\n",
        "data2={'Name':['chandra','loki','baji','mohana'],\n",
        "       'Age':[19,12,21,20],\n",
        "       'Address':['chennai','kammam','hyd','vnk'],\n",
        "       'Qualification':['Mba','M.tech','b.tech','B.A']\n",
        "      }\n",
        "#convert the dictionary into dataframe\n",
        "df1=pd.DataFrame(data1,index=[0,1,2,3])\n",
        "df2=pd.DataFrame(data2,index=[2,3,6,7])\n",
        "print(df1,\"/n/n\",df2)\n",
        "#concatenate two dataframes\n",
        "result=pd.concat([df1,df2])\n",
        "print(result)"
      ],
      "metadata": {
        "id": "wYNMm7wQDbzk"
      },
      "execution_count": null,
      "outputs": []
    },
    {
      "cell_type": "code",
      "source": [
        "#ignoring the indexes\n",
        "#concat dataframes and joins\n",
        "import pandas as pd\n",
        "#Define a dictionary containing employee data\n",
        "data1={'Name':['jai','princi','gaurav','anuj'],\n",
        "       'Age':[27,24,22,32],\n",
        "       'Address':['Nagpur','kanpur','allahabad','guntur'],\n",
        "       'Qualification':['Msc','MA','MCA','Phd']\n",
        "      }\n",
        "data2={'Name':['chandra','loki','baji','mohana'],\n",
        "       'Age':[19,12,21,20],\n",
        "       'Address':['chennai','kammam','hyd','vnk'],\n",
        "       'Qualification':['Mba','M.tech','b.tech','B.A']\n",
        "      }\n",
        "#convert the dictionary into dataframe\n",
        "df1=pd.DataFrame(data1,index=[0,1,2,3])\n",
        "df2=pd.DataFrame(data2,index=[2,3,6,7])\n",
        "print(df1,\"/n/n\",df2)\n",
        "print(\"---------------------\")\n",
        "#concatenate two dataframes\n",
        "result=pd.concat([df1,df2])\n",
        "print(result)\n",
        "print(\"---------------------\")\n",
        "result2=pd.concat([df1,df2],ignore_index=True)\n",
        "print(result2)\n"
      ],
      "metadata": {
        "id": "UNkfKDGbGHca"
      },
      "execution_count": null,
      "outputs": []
    },
    {
      "cell_type": "code",
      "source": [
        "#concat dataframes and joins\n",
        "import pandas as pd\n",
        "#Define a dictionary containing employee data\n",
        "data1={'Name':['jai','princi','gaurav','anuj'],\n",
        "       'Age':[27,24,22,32],\n",
        "       'Address':['Nagpur','kanpur','allahabad','guntur'],\n",
        "       'Qualification':['Msc','MA','MCA','Phd']\n",
        "      }\n",
        "df=pd.DataFrame(data1,index=[0,1,2,3])\n",
        "s1=pd.Series([1000,2000,3000,4000],name='salary')\n",
        "result=pd.concat([df,s1],axis=1)\n",
        "print(result)"
      ],
      "metadata": {
        "id": "eAE5s9L9GvJ_"
      },
      "execution_count": null,
      "outputs": []
    },
    {
      "cell_type": "code",
      "source": [
        "#merging the dataframe\n",
        "import pandas as pd\n",
        "#define a dictionary containing employee data\n",
        "data1={'key':['k0','k1','k2','k3'],\n",
        "       'Name':['jai','princi','gaurav','anuj'],\n",
        "       'Age':[27,24,22,32],\n",
        "      }\n",
        "#define a dictionary containing employee data\n",
        "data2={'key':[k0,k1,k2,k3],\n",
        "       'Address':['Nagpur','kanpur','Allahabad','kannuaj'],\n",
        "       'Qualification':['Btech','B.A','Bcom','B.hons']}\n",
        "df=pd.DataFrame(data1)\n",
        "df1=pd.DataFrame(data2)\n",
        "print(df,\"\\n\\n\",df1)\n",
        "res=pd.merge(df,df1,on='key')\n",
        "print(res)\n",
        "#concat vs merge\n",
        "#concatenation is based on index and which we add both row wise and column wise\n",
        "#merge means it is based on columns\n"
      ],
      "metadata": {
        "id": "dD88xAQVKP7x",
        "outputId": "602b4600-28ed-48c7-88ca-b12a9fbfc567",
        "colab": {
          "base_uri": "https://localhost:8080/",
          "height": 211
        }
      },
      "execution_count": null,
      "outputs": [
        {
          "output_type": "error",
          "ename": "NameError",
          "evalue": "name 'k0' is not defined",
          "traceback": [
            "\u001b[0;31m---------------------------------------------------------------------------\u001b[0m",
            "\u001b[0;31mNameError\u001b[0m                                 Traceback (most recent call last)",
            "\u001b[0;32m<ipython-input-1-0c31db7a70b4>\u001b[0m in \u001b[0;36m<cell line: 9>\u001b[0;34m()\u001b[0m\n\u001b[1;32m      7\u001b[0m       }\n\u001b[1;32m      8\u001b[0m \u001b[0;31m#define a dictionary containing employee data\u001b[0m\u001b[0;34m\u001b[0m\u001b[0;34m\u001b[0m\u001b[0m\n\u001b[0;32m----> 9\u001b[0;31m data2={'key':[k0,k1,k2,k3],\n\u001b[0m\u001b[1;32m     10\u001b[0m        \u001b[0;34m'Address'\u001b[0m\u001b[0;34m:\u001b[0m\u001b[0;34m[\u001b[0m\u001b[0;34m'Nagpur'\u001b[0m\u001b[0;34m,\u001b[0m\u001b[0;34m'kanpur'\u001b[0m\u001b[0;34m,\u001b[0m\u001b[0;34m'Allahabad'\u001b[0m\u001b[0;34m,\u001b[0m\u001b[0;34m'kannuaj'\u001b[0m\u001b[0;34m]\u001b[0m\u001b[0;34m,\u001b[0m\u001b[0;34m\u001b[0m\u001b[0;34m\u001b[0m\u001b[0m\n\u001b[1;32m     11\u001b[0m        'Qualification':['Btech','B.A','Bcom','B.hons']}\n",
            "\u001b[0;31mNameError\u001b[0m: name 'k0' is not defined"
          ]
        }
      ]
    },
    {
      "cell_type": "code",
      "source": [
        "import pandas as pd\n",
        "#define a dictionary containing employee data\n",
        "data1={'key':['k0','k1','k2','k3'],\n",
        "       'key1':['k0','k1','k0','k1'],\n",
        "       'Name':['m','n','b','v'],\n",
        "       'age':[21,24,34,54]}\n",
        "\n",
        "data2={'key':['k0','k1','k2','k3'],\n",
        "       'key1':['k0','k0','k0','k0'],\n",
        "       'Address':['s','g','y','o'],\n",
        "       'Qualification':['btech','BA','Bcom','Bsc']}\n",
        "df=pd.DataFrame(data1)\n",
        "df1=pd.DataFrame(data2)\n",
        "res=pd.merge(df,df1,on=['key','key1'])\n",
        "print(res)"
      ],
      "metadata": {
        "id": "i3TBEd1VOXi3"
      },
      "execution_count": null,
      "outputs": []
    }
  ]
}